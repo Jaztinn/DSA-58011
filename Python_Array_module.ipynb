{
  "nbformat": 4,
  "nbformat_minor": 0,
  "metadata": {
    "colab": {
      "provenance": [],
      "authorship_tag": "ABX9TyMLMmHsaRwd8p1QSCB163Hl",
      "include_colab_link": true
    },
    "kernelspec": {
      "name": "python3",
      "display_name": "Python 3"
    },
    "language_info": {
      "name": "python"
    }
  },
  "cells": [
    {
      "cell_type": "markdown",
      "metadata": {
        "id": "view-in-github",
        "colab_type": "text"
      },
      "source": [
        "<a href=\"https://colab.research.google.com/github/Jaztinn/DSA-58011/blob/main/Python_Array_module.ipynb\" target=\"_parent\"><img src=\"https://colab.research.google.com/assets/colab-badge.svg\" alt=\"Open In Colab\"/></a>"
      ]
    },
    {
      "cell_type": "markdown",
      "source": [
        "Example 1\n"
      ],
      "metadata": {
        "id": "d8pEP3dMbt_B"
      }
    },
    {
      "cell_type": "code",
      "source": [
        "import array\n",
        "array.typecodes #type a label to use all the codes\n",
        "\n",
        "a = array.array('i',[1,2,3,4,5,6,7,8,9,10])\n",
        "b = array.array('f',[1.5,2.5,3.5,4.5,5.5,6.5,7.5,8.5,9.5,10.5])\n",
        "\n",
        "print(a.typecode)\n",
        "print(b.typecode)"
      ],
      "metadata": {
        "colab": {
          "base_uri": "https://localhost:8080/"
        },
        "id": "-5vN_rlzb08w",
        "outputId": "f9626627-97b7-4a58-fef3-035fbd32384f"
      },
      "execution_count": 1,
      "outputs": [
        {
          "output_type": "stream",
          "name": "stdout",
          "text": [
            "i\n",
            "f\n"
          ]
        }
      ]
    },
    {
      "cell_type": "markdown",
      "source": [
        "Example 2"
      ],
      "metadata": {
        "id": "v2ZZJ0OQb6-o"
      }
    },
    {
      "cell_type": "code",
      "source": [
        "a = array.array('f',[1,2,3,4,5,6,7,8,9,10])\n",
        "print(a)"
      ],
      "metadata": {
        "colab": {
          "base_uri": "https://localhost:8080/"
        },
        "id": "azZMZrEvb9fg",
        "outputId": "7d16418b-ad3a-4fcb-82c5-7aafb7c17b37"
      },
      "execution_count": 2,
      "outputs": [
        {
          "output_type": "stream",
          "name": "stdout",
          "text": [
            "array('f', [1.0, 2.0, 3.0, 4.0, 5.0, 6.0, 7.0, 8.0, 9.0, 10.0])\n"
          ]
        }
      ]
    },
    {
      "cell_type": "markdown",
      "source": [
        "Insert an element: 11 to the first index of the array a"
      ],
      "metadata": {
        "id": "cg3J3s-lcB-J"
      }
    },
    {
      "cell_type": "code",
      "source": [
        "a.insert(0,11)\n",
        "print(a)\n",
        "\n",
        "b.insert(-1,11)\n",
        "print(b)"
      ],
      "metadata": {
        "colab": {
          "base_uri": "https://localhost:8080/"
        },
        "id": "JjD_gnqScFzp",
        "outputId": "3fe82faa-78fe-46ff-a36e-60f085e63003"
      },
      "execution_count": 3,
      "outputs": [
        {
          "output_type": "stream",
          "name": "stdout",
          "text": [
            "array('f', [11.0, 1.0, 2.0, 3.0, 4.0, 5.0, 6.0, 7.0, 8.0, 9.0, 10.0])\n",
            "array('f', [1.5, 2.5, 3.5, 4.5, 5.5, 6.5, 7.5, 8.5, 9.5, 11.0, 10.5])\n"
          ]
        }
      ]
    },
    {
      "cell_type": "code",
      "source": [
        "a = array.array('i',[1,2,3,4,5,6,7,8,9,10])\n",
        "print(a)\n",
        "a.insert(10,-1)\n",
        "print(a)"
      ],
      "metadata": {
        "colab": {
          "base_uri": "https://localhost:8080/"
        },
        "id": "Xo4mwgdMcOQA",
        "outputId": "62d4311c-9a4b-4e89-e214-c76054ef5ce1"
      },
      "execution_count": 4,
      "outputs": [
        {
          "output_type": "stream",
          "name": "stdout",
          "text": [
            "array('i', [1, 2, 3, 4, 5, 6, 7, 8, 9, 10])\n",
            "array('i', [1, 2, 3, 4, 5, 6, 7, 8, 9, 10, -1])\n"
          ]
        }
      ]
    },
    {
      "cell_type": "markdown",
      "source": [
        "Nodes"
      ],
      "metadata": {
        "id": "At6xjA_UcTZY"
      }
    },
    {
      "cell_type": "code",
      "source": [
        "#initialize the node class\n",
        "class Node:\n",
        "\n",
        "  def __init__(self,data):\n",
        "    self.data=data      #initialize object node\n",
        "    self.next=None      #initialize as null\n",
        "\n",
        "class LinkedList:\n",
        "  def __init__(self):\n",
        "    self.head = None    #initialize the head of the node\n",
        "  def printlist(self):\n",
        "    temp=self.head\n",
        "    while(temp):\n",
        "      print(temp.data)\n",
        "      temp=temp.next\n",
        "\n",
        "   \n",
        "#empty list\n",
        "\n",
        "llist = LinkedList()\n",
        "llist.head = Node(1)\n",
        "second = Node(2)\n",
        "third= Node(3)\n",
        "\n",
        "llist.head.next = second\n",
        "second.next = third\n",
        "\n",
        "\n",
        "llist.printlist()"
      ],
      "metadata": {
        "colab": {
          "base_uri": "https://localhost:8080/"
        },
        "id": "T5W16TFccUeS",
        "outputId": "c972ef9c-3641-4d86-eb18-4c0339f143f9"
      },
      "execution_count": 5,
      "outputs": [
        {
          "output_type": "stream",
          "name": "stdout",
          "text": [
            "1\n",
            "2\n",
            "3\n"
          ]
        }
      ]
    }
  ]
}