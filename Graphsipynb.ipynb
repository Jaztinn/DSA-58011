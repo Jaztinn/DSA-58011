{
  "nbformat": 4,
  "nbformat_minor": 0,
  "metadata": {
    "colab": {
      "provenance": [],
      "authorship_tag": "ABX9TyNwIkUfh/5nAImqu5GlHEao",
      "include_colab_link": true
    },
    "kernelspec": {
      "name": "python3",
      "display_name": "Python 3"
    },
    "language_info": {
      "name": "python"
    }
  },
  "cells": [
    {
      "cell_type": "markdown",
      "metadata": {
        "id": "view-in-github",
        "colab_type": "text"
      },
      "source": [
        "<a href=\"https://colab.research.google.com/github/Jaztinn/DSA-58011/blob/main/Graphsipynb.ipynb\" target=\"_parent\"><img src=\"https://colab.research.google.com/assets/colab-badge.svg\" alt=\"Open In Colab\"/></a>"
      ]
    },
    {
      "cell_type": "code",
      "execution_count": 5,
      "metadata": {
        "colab": {
          "base_uri": "https://localhost:8080/"
        },
        "id": "xzKtxj5Naz4n",
        "outputId": "0a53c456-3c28-42e4-cf79-606352799fed"
      },
      "outputs": [
        {
          "output_type": "stream",
          "name": "stdout",
          "text": [
            "{'1': ['4', '5', '6'], '4': ['1'], '5': ['1'], '3': ['1'], '2': ['4', '2']}\n"
          ]
        }
      ],
      "source": [
        "g21 = {\n",
        "    '1' :['4','5','6'],\n",
        "    '4' :['2','5'],\n",
        "    '5' :['1'],\n",
        "    '3' :['1'],\n",
        "    '4' :['1'],\n",
        "    '4' :['1'],\n",
        "    '4' :['1'],\n",
        "    '2' :['4','2'],\n",
        "\n",
        "}\n",
        "print(g21)\n"
      ]
    },
    {
      "cell_type": "markdown",
      "source": [
        "Data Elements using Dictionaries to implement Graphs"
      ],
      "metadata": {
        "id": "wgVYCFIxl1WL"
      }
    },
    {
      "cell_type": "code",
      "source": [
        "graph = {\n",
        "    'a':['b','c'],\n",
        "    'b':['a','d'],\n",
        "    'c':['a','d'],\n",
        "    'd':['b','c','e'],\n",
        "    'e':['e']\n",
        "\n",
        "}\n",
        "print(graph)"
      ],
      "metadata": {
        "colab": {
          "base_uri": "https://localhost:8080/"
        },
        "id": "seWnY7Ybl4D_",
        "outputId": "8b34c6fe-8260-4013-d54f-cf39aa9cda98"
      },
      "execution_count": 6,
      "outputs": [
        {
          "output_type": "stream",
          "name": "stdout",
          "text": [
            "{'a': ['b', 'c'], 'b': ['a', 'd'], 'c': ['a', 'd'], 'd': ['b', 'c', 'e'], 'e': ['e']}\n"
          ]
        }
      ]
    },
    {
      "cell_type": "markdown",
      "source": [
        "Application 1(G20)"
      ],
      "metadata": {
        "id": "-lG3UNrNl6xX"
      }
    },
    {
      "cell_type": "code",
      "source": [
        "g20 = {\n",
        "    '2':['1','4'],\n",
        "    '3':['3','4'],\n",
        "    '1':['4'],\n",
        "\n",
        "}\n",
        "print(g20)\n",
        "\n",
        "V = {1,2,3,4}\n",
        "E= {'2': ['1', '4'], '3': ['3', '4'], '1': ['4']}"
      ],
      "metadata": {
        "colab": {
          "base_uri": "https://localhost:8080/"
        },
        "id": "X0u3KANhl9EH",
        "outputId": "a52cc8bf-51e7-4d89-fe0e-5bf0d7ee0023"
      },
      "execution_count": 7,
      "outputs": [
        {
          "output_type": "stream",
          "name": "stdout",
          "text": [
            "{'2': ['1', '4'], '3': ['3', '4'], '1': ['4']}\n"
          ]
        }
      ]
    }
  ]
}