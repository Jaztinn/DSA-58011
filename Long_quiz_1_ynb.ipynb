{
  "nbformat": 4,
  "nbformat_minor": 0,
  "metadata": {
    "colab": {
      "provenance": [],
      "authorship_tag": "ABX9TyOqdIgGiVyHzezDbZJgJPVy",
      "include_colab_link": true
    },
    "kernelspec": {
      "name": "python3",
      "display_name": "Python 3"
    },
    "language_info": {
      "name": "python"
    }
  },
  "cells": [
    {
      "cell_type": "markdown",
      "metadata": {
        "id": "view-in-github",
        "colab_type": "text"
      },
      "source": [
        "<a href=\"https://colab.research.google.com/github/Jaztinn/DSA-58011/blob/main/Long_quiz_1_ynb.ipynb\" target=\"_parent\"><img src=\"https://colab.research.google.com/assets/colab-badge.svg\" alt=\"Open In Colab\"/></a>"
      ]
    },
    {
      "cell_type": "code",
      "execution_count": null,
      "metadata": {
        "id": "72v24w0qbf9u"
      },
      "outputs": [],
      "source": []
    },
    {
      "cell_type": "code",
      "source": [
        "class Node:\n",
        "\n",
        "    def __init__(self, data):\n",
        "        self.data = data\n",
        "        self.next = None\n",
        "  \n",
        "class LinkedList:\n",
        "  \n",
        "    def __init__(self):\n",
        "        self.head = None\n",
        "  \n",
        "    def reverse(self):\n",
        "        prev = None\n",
        "        current = self.head\n",
        "        while(current is not None):\n",
        "            next = current.next\n",
        "            current.next = prev\n",
        "            prev = current\n",
        "            current = next\n",
        "        self.head = prev\n",
        "\n",
        "    def push(self, new_data):\n",
        "        new_node = Node(new_data)\n",
        "        new_node.next = self.head\n",
        "        self.head = new_node\n",
        " \n",
        "    def printList(self):\n",
        "        temp = self.head\n",
        "        while(temp):\n",
        "            print (temp.data,end=\" \")\n",
        "            temp = temp.next\n",
        "\n",
        "llist = LinkedList()\n",
        "llist.push(\"Espares\")\n",
        "llist.push(\"Jason\")\n",
        "llist.push(\"Jastin\")\n",
        "  \n",
        "print (\"Full Name:\")\n",
        "llist.printList()\n",
        "llist.reverse()\n",
        "print (\"\\nReversed Full Name:\")\n",
        "llist.printList()\n"
      ],
      "metadata": {
        "colab": {
          "base_uri": "https://localhost:8080/"
        },
        "id": "O0v9_XjiehHS",
        "outputId": "37f447ee-136b-4d34-de21-573e97ffbf32"
      },
      "execution_count": 3,
      "outputs": [
        {
          "output_type": "stream",
          "name": "stdout",
          "text": [
            "Full Name:\n",
            "Jastin Jason Espares \n",
            "Reversed Full Name:\n",
            "Espares Jason Jastin "
          ]
        }
      ]
    }
  ]
}