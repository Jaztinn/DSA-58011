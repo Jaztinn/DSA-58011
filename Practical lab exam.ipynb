{
  "nbformat": 4,
  "nbformat_minor": 0,
  "metadata": {
    "colab": {
      "name": "Untitled4.ipynb",
      "provenance": [],
      "authorship_tag": "ABX9TyP32fMszqHI7h9Cc+VKcWfp",
      "include_colab_link": true
    },
    "kernelspec": {
      "name": "python3",
      "display_name": "Python 3"
    },
    "language_info": {
      "name": "python"
    }
  },
  "cells": [
    {
      "cell_type": "markdown",
      "metadata": {
        "id": "view-in-github",
        "colab_type": "text"
      },
      "source": [
        "<a href=\"https://colab.research.google.com/github/Jaztinn/DSA-58011/blob/main/Practical%20lab%20exam.ipynb\" target=\"_parent\"><img src=\"https://colab.research.google.com/assets/colab-badge.svg\" alt=\"Open In Colab\"/></a>"
      ]
    },
    {
      "cell_type": "code",
      "source": [
        "list1 = [26,49,98,87,62,75]\n",
        "\n",
        "only_odd = [num for num in list1 if num % 2 == 1]\n",
        "res = sum(only_odd)\n",
        "\n",
        "print(\"Odd Numbers are: \",only_odd)\n",
        "print(\"The Sum is: \", res)"
      ],
      "metadata": {
        "colab": {
          "base_uri": "https://localhost:8080/"
        },
        "id": "88EJXPsltVlP",
        "outputId": "d35504f6-19c9-446a-d77c-024daecb4b7c"
      },
      "execution_count": 4,
      "outputs": [
        {
          "output_type": "stream",
          "name": "stdout",
          "text": [
            "Odd Numbers are:  [49, 87, 75]\n",
            "The Sum is:  211\n"
          ]
        }
      ]
    }
  ]
}